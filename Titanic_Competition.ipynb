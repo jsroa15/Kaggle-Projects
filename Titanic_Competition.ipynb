{
  "nbformat": 4,
  "nbformat_minor": 0,
  "metadata": {
    "colab": {
      "name": "Titanic Competition",
      "provenance": [],
      "collapsed_sections": [],
      "toc_visible": true,
      "authorship_tag": "ABX9TyPxWFCP6lktE+p+K5ZKFSky",
      "include_colab_link": true
    },
    "kernelspec": {
      "name": "python3",
      "display_name": "Python 3"
    }
  },
  "cells": [
    {
      "cell_type": "markdown",
      "metadata": {
        "id": "view-in-github",
        "colab_type": "text"
      },
      "source": [
        "<a href=\"https://colab.research.google.com/github/jsroa15/Kaggle-Projects/blob/main/Titanic_Competition.ipynb\" target=\"_parent\"><img src=\"https://colab.research.google.com/assets/colab-badge.svg\" alt=\"Open In Colab\"/></a>"
      ]
    },
    {
      "cell_type": "markdown",
      "metadata": {
        "id": "z-6w0ARSqftn"
      },
      "source": [
        "# Importings and data loading"
      ]
    },
    {
      "cell_type": "code",
      "metadata": {
        "id": "Um9wAe4pEOwZ"
      },
      "source": [
        "#Importings\n",
        "import numpy as np\n",
        "import pandas as pd\n",
        "import matplotlib.pyplot as plt\n",
        "import seaborn as sns\n",
        "\n",
        "#Machine Learning\n",
        "from sklearn.model_selection import train_test_split\n",
        "from sklearn.preprocessing import StandardScaler\n",
        "from sklearn.svm import SVC\n",
        "from sklearn.linear_model import LogisticRegression\n",
        "from sklearn.neighbors import KNeighborsClassifier\n",
        "from sklearn.pipeline import Pipeline\n",
        "from sklearn.metrics import confusion_matrix\n",
        "from sklearn.ensemble import RandomForestClassifier\n",
        "from sklearn.model_selection import cross_val_score\n",
        "from sklearn.ensemble import GradientBoostingClassifier\n",
        "from sklearn.model_selection import GridSearchCV\n",
        "from sklearn.metrics import accuracy_score\n",
        "from sklearn.model_selection import train_test_split\n"
      ],
      "execution_count": null,
      "outputs": []
    },
    {
      "cell_type": "code",
      "metadata": {
        "id": "7DDBT3HJEnkB"
      },
      "source": [
        "#Loading data\n",
        "training=pd.read_csv('/content/sample_data/train (1).csv')"
      ],
      "execution_count": null,
      "outputs": []
    },
    {
      "cell_type": "markdown",
      "metadata": {
        "id": "YvjckwYsnKyM"
      },
      "source": [
        "# Exploratory Data Analysis"
      ]
    },
    {
      "cell_type": "code",
      "metadata": {
        "id": "g1tRR83lLYql",
        "colab": {
          "base_uri": "https://localhost:8080/",
          "height": 677
        },
        "outputId": "14b4868e-5452-4cfb-e058-4876339a4ec4"
      },
      "source": [
        "#Exploring data shape and info\n",
        "print(training.shape)\n",
        "training.info()\n",
        "sns.heatmap(training.isna())\n"
      ],
      "execution_count": null,
      "outputs": [
        {
          "output_type": "stream",
          "text": [
            "(891, 12)\n",
            "<class 'pandas.core.frame.DataFrame'>\n",
            "RangeIndex: 891 entries, 0 to 890\n",
            "Data columns (total 12 columns):\n",
            " #   Column       Non-Null Count  Dtype  \n",
            "---  ------       --------------  -----  \n",
            " 0   PassengerId  891 non-null    int64  \n",
            " 1   Survived     891 non-null    int64  \n",
            " 2   Pclass       891 non-null    int64  \n",
            " 3   Name         891 non-null    object \n",
            " 4   Sex          891 non-null    object \n",
            " 5   Age          714 non-null    float64\n",
            " 6   SibSp        891 non-null    int64  \n",
            " 7   Parch        891 non-null    int64  \n",
            " 8   Ticket       891 non-null    object \n",
            " 9   Fare         891 non-null    float64\n",
            " 10  Cabin        204 non-null    object \n",
            " 11  Embarked     889 non-null    object \n",
            "dtypes: float64(2), int64(5), object(5)\n",
            "memory usage: 83.7+ KB\n"
          ],
          "name": "stdout"
        },
        {
          "output_type": "execute_result",
          "data": {
            "text/plain": [
              "<matplotlib.axes._subplots.AxesSubplot at 0x7f75b0c45128>"
            ]
          },
          "metadata": {
            "tags": []
          },
          "execution_count": 140
        },
        {
          "output_type": "display_data",
          "data": {
            "image/png": "[encoded data removed]",
            "text/plain": [
              "<Figure size 432x288 with 2 Axes>"
            ]
          },
          "metadata": {
            "tags": [],
            "needs_background": "light"
          }
        }
      ]
    },
    {
      "cell_type": "code",
      "metadata": {
        "id": "WEAwzwrsLwfq",
        "colab": {
          "base_uri": "https://localhost:8080/",
          "height": 461
        },
        "outputId": "5725fcec-bc43-4f50-d80e-0bdc58319c80"
      },
      "source": [
        "#How the data looks\n",
        "training.head(10)"
      ],
      "execution_count": null,
      "outputs": [
        {
          "output_type": "execute_result",
          "data": {
            "text/html": [
              "<div>\n",
              "<style scoped>\n",
              "    .dataframe tbody tr th:only-of-type {\n",
              "        vertical-align: middle;\n",
              "    }\n",
              "\n",
              "    .dataframe tbody tr th {\n",
              "        vertical-align: top;\n",
              "    }\n",
              "\n",
              "    .dataframe thead th {\n",
              "        text-align: right;\n",
              "    }\n",
              "</style>\n",
              "<table border=\"1\" class=\"dataframe\">\n",
              "  <thead>\n",
              "    <tr style=\"text-align: right;\">\n",
              "      <th></th>\n",
              "      <th>PassengerId</th>\n",
              "      <th>Survived</th>\n",
              "      <th>Pclass</th>\n",
              "      <th>Name</th>\n",
              "      <th>Sex</th>\n",
              "      <th>Age</th>\n",
              "      <th>SibSp</th>\n",
              "      <th>Parch</th>\n",
              "      <th>Ticket</th>\n",
              "      <th>Fare</th>\n",
              "      <th>Cabin</th>\n",
              "      <th>Embarked</th>\n",
              "    </tr>\n",
              "  </thead>\n",
              "  <tbody>\n",
              "    <tr>\n",
              "      <th>0</th>\n",
              "      <td>1</td>\n",
              "      <td>0</td>\n",
              "      <td>3</td>\n",
              "      <td>Braund, Mr. Owen Harris</td>\n",
              "      <td>male</td>\n",
              "      <td>22.0</td>\n",
              "      <td>1</td>\n",
              "      <td>0</td>\n",
              "      <td>A/5 21171</td>\n",
              "      <td>7.2500</td>\n",
              "      <td>NaN</td>\n",
              "      <td>S</td>\n",
              "    </tr>\n",
              "    <tr>\n",
              "      <th>1</th>\n",
              "      <td>2</td>\n",
              "      <td>1</td>\n",
              "      <td>1</td>\n",
              "      <td>Cumings, Mrs. John Bradley (Florence Briggs Th...</td>\n",
              "      <td>female</td>\n",
              "      <td>38.0</td>\n",
              "      <td>1</td>\n",
              "      <td>0</td>\n",
              "      <td>PC 17599</td>\n",
              "      <td>71.2833</td>\n",
              "      <td>C85</td>\n",
              "      <td>C</td>\n",
              "    </tr>\n",
              "    <tr>\n",
              "      <th>2</th>\n",
              "      <td>3</td>\n",
              "      <td>1</td>\n",
              "      <td>3</td>\n",
              "      <td>Heikkinen, Miss. Laina</td>\n",
              "      <td>female</td>\n",
              "      <td>26.0</td>\n",
              "      <td>0</td>\n",
              "      <td>0</td>\n",
              "      <td>STON/O2. 3101282</td>\n",
              "      <td>7.9250</td>\n",
              "      <td>NaN</td>\n",
              "      <td>S</td>\n",
              "    </tr>\n",
              "    <tr>\n",
              "      <th>3</th>\n",
              "      <td>4</td>\n",
              "      <td>1</td>\n",
              "      <td>1</td>\n",
              "      <td>Futrelle, Mrs. Jacques Heath (Lily May Peel)</td>\n",
              "      <td>female</td>\n",
              "      <td>35.0</td>\n",
              "      <td>1</td>\n",
              "      <td>0</td>\n",
              "      <td>113803</td>\n",
              "      <td>53.1000</td>\n",
              "      <td>C123</td>\n",
              "      <td>S</td>\n",
              "    </tr>\n",
              "    <tr>\n",
              "      <th>4</th>\n",
              "      <td>5</td>\n",
              "      <td>0</td>\n",
              "      <td>3</td>\n",
              "      <td>Allen, Mr. William Henry</td>\n",
              "      <td>male</td>\n",
              "      <td>35.0</td>\n",
              "      <td>0</td>\n",
              "      <td>0</td>\n",
              "      <td>373450</td>\n",
              "      <td>8.0500</td>\n",
              "      <td>NaN</td>\n",
              "      <td>S</td>\n",
              "    </tr>\n",
              "    <tr>\n",
              "      <th>5</th>\n",
              "      <td>6</td>\n",
              "      <td>0</td>\n",
              "      <td>3</td>\n",
              "      <td>Moran, Mr. James</td>\n",
              "      <td>male</td>\n",
              "      <td>NaN</td>\n",
              "      <td>0</td>\n",
              "      <td>0</td>\n",
              "      <td>330877</td>\n",
              "      <td>8.4583</td>\n",
              "      <td>NaN</td>\n",
              "      <td>Q</td>\n",
              "    </tr>\n",
              "    <tr>\n",
              "      <th>6</th>\n",
              "      <td>7</td>\n",
              "      <td>0</td>\n",
              "      <td>1</td>\n",
              "      <td>McCarthy, Mr. Timothy J</td>\n",
              "      <td>male</td>\n",
              "      <td>54.0</td>\n",
              "      <td>0</td>\n",
              "      <td>0</td>\n",
              "      <td>17463</td>\n",
              "      <td>51.8625</td>\n",
              "      <td>E46</td>\n",
              "      <td>S</td>\n",
              "    </tr>\n",
              "    <tr>\n",
              "      <th>7</th>\n",
              "      <td>8</td>\n",
              "      <td>0</td>\n",
              "      <td>3</td>\n",
              "      <td>Palsson, Master. Gosta Leonard</td>\n",
              "      <td>male</td>\n",
              "      <td>2.0</td>\n",
              "      <td>3</td>\n",
              "      <td>1</td>\n",
              "      <td>349909</td>\n",
              "      <td>21.0750</td>\n",
              "      <td>NaN</td>\n",
              "      <td>S</td>\n",
              "    </tr>\n",
              "    <tr>\n",
              "      <th>8</th>\n",
              "      <td>9</td>\n",
              "      <td>1</td>\n",
              "      <td>3</td>\n",
              "      <td>Johnson, Mrs. Oscar W (Elisabeth Vilhelmina Berg)</td>\n",
              "      <td>female</td>\n",
              "      <td>27.0</td>\n",
              "      <td>0</td>\n",
              "      <td>2</td>\n",
              "      <td>347742</td>\n",
              "      <td>11.1333</td>\n",
              "      <td>NaN</td>\n",
              "      <td>S</td>\n",
              "    </tr>\n",
              "    <tr>\n",
              "      <th>9</th>\n",
              "      <td>10</td>\n",
              "      <td>1</td>\n",
              "      <td>2</td>\n",
              "      <td>Nasser, Mrs. Nicholas (Adele Achem)</td>\n",
              "      <td>female</td>\n",
              "      <td>14.0</td>\n",
              "      <td>1</td>\n",
              "      <td>0</td>\n",
              "      <td>237736</td>\n",
              "      <td>30.0708</td>\n",
              "      <td>NaN</td>\n",
              "      <td>C</td>\n",
              "    </tr>\n",
              "  </tbody>\n",
              "</table>\n",
              "</div>"
            ],
            "text/plain": [
              "   PassengerId  Survived  Pclass  ...     Fare Cabin  Embarked\n",
              "0            1         0       3  ...   7.2500   NaN         S\n",
              "1            2         1       1  ...  71.2833   C85         C\n",
              "2            3         1       3  ...   7.9250   NaN         S\n",
              "3            4         1       1  ...  53.1000  C123         S\n",
              "4            5         0       3  ...   8.0500   NaN         S\n",
              "5            6         0       3  ...   8.4583   NaN         Q\n",
              "6            7         0       1  ...  51.8625   E46         S\n",
              "7            8         0       3  ...  21.0750   NaN         S\n",
              "8            9         1       3  ...  11.1333   NaN         S\n",
              "9           10         1       2  ...  30.0708   NaN         C\n",
              "\n",
              "[10 rows x 12 columns]"
            ]
          },
          "metadata": {
            "tags": []
          },
          "execution_count": 141
        }
      ]
    },
    {
      "cell_type": "code",
      "metadata": {
        "id": "-csapB2qardu",
        "colab": {
          "base_uri": "https://localhost:8080/",
          "height": 68
        },
        "outputId": "5f35643d-81cc-405c-f347-5aa724aad27c"
      },
      "source": [
        "#Exploring numerical features\n",
        "print(training.columns)\n",
        "numerical=['Age','SibSp','Parch','Fare']\n",
        "training_numerical=training[numerical]"
      ],
      "execution_count": null,
      "outputs": [
        {
          "output_type": "stream",
          "text": [
            "Index(['PassengerId', 'Survived', 'Pclass', 'Name', 'Sex', 'Age', 'SibSp',\n",
            "       'Parch', 'Ticket', 'Fare', 'Cabin', 'Embarked'],\n",
            "      dtype='object')\n"
          ],
          "name": "stdout"
        }
      ]
    },
    {
      "cell_type": "code",
      "metadata": {
        "id": "mKJx1yDaffGK",
        "colab": {
          "base_uri": "https://localhost:8080/",
          "height": 1000
        },
        "outputId": "f7011282-3cd1-4db3-9831-32d917df27af"
      },
      "source": [
        "#Histograms\n",
        "for i in training_numerical.columns:\n",
        "  plt.figure(figsize=(5,5))\n",
        "  plt.hist(training_numerical[i],color='green')\n",
        "  plt.title=i\n",
        "  plt.show()"
      ],
      "execution_count": null,
      "outputs": [
        {
          "output_type": "stream",
          "text": [
            "/usr/local/lib/python3.6/dist-packages/numpy/lib/histograms.py:839: RuntimeWarning: invalid value encountered in greater_equal\n",
            "  keep = (tmp_a >= first_edge)\n",
            "/usr/local/lib/python3.6/dist-packages/numpy/lib/histograms.py:840: RuntimeWarning: invalid value encountered in less_equal\n",
            "  keep &= (tmp_a <= last_edge)\n"
          ],
          "name": "stderr"
        },
        {
          "output_type": "display_data",
          "data": {
            "image/png": "[encoded data removed]",
            "text/plain": [
              "<Figure size 360x360 with 1 Axes>"
            ]
          },
          "metadata": {
            "tags": [],
            "needs_background": "light"
          }
        },
        {
          "output_type": "display_data",
          "data": {
            "image/png": "[encoded data removed]",
            "text/plain": [
              "<Figure size 360x360 with 1 Axes>"
            ]
          },
          "metadata": {
            "tags": [],
            "needs_background": "light"
          }
        },
        {
          "output_type": "display_data",
          "data": {
            "image/png": "[encoded data removed]",
            "text/plain": [
              "<Figure size 360x360 with 1 Axes>"
            ]
          },
          "metadata": {
            "tags": [],
            "needs_background": "light"
          }
        },
        {
          "output_type": "display_data",
          "data": {
            "image/png": "[encoded data removed]",
            "text/plain": [
              "<Figure size 360x360 with 1 Axes>"
            ]
          },
          "metadata": {
            "tags": [],
            "needs_background": "light"
          }
        }
      ]
    },
    {
      "cell_type": "code",
      "metadata": {
        "id": "jKG2avOYq-Fe",
        "colab": {
          "base_uri": "https://localhost:8080/",
          "height": 170
        },
        "outputId": "4b974cdc-5b5d-4206-b864-95ffee8cec32"
      },
      "source": [
        "# Mean, median, etc\n",
        "print(training_numerical.describe())"
      ],
      "execution_count": null,
      "outputs": [
        {
          "output_type": "stream",
          "text": [
            "              Age       SibSp       Parch        Fare\n",
            "count  714.000000  891.000000  891.000000  891.000000\n",
            "mean    29.699118    0.523008    0.381594   32.204208\n",
            "std     14.526497    1.102743    0.806057   49.693429\n",
            "min      0.420000    0.000000    0.000000    0.000000\n",
            "25%     20.125000    0.000000    0.000000    7.910400\n",
            "50%     28.000000    0.000000    0.000000   14.454200\n",
            "75%     38.000000    1.000000    0.000000   31.000000\n",
            "max     80.000000    8.000000    6.000000  512.329200\n"
          ],
          "name": "stdout"
        }
      ]
    },
    {
      "cell_type": "code",
      "metadata": {
        "id": "2XeVewMevLAC",
        "colab": {
          "base_uri": "https://localhost:8080/",
          "height": 286
        },
        "outputId": "c7cdd97a-b019-4efd-9ff1-30c77a05bfbe"
      },
      "source": [
        "# Correlation between variables\n",
        "training_numerical.corr()\n",
        "sns.heatmap(training_numerical.corr(),cmap=\"Greens\")"
      ],
      "execution_count": null,
      "outputs": [
        {
          "output_type": "execute_result",
          "data": {
            "text/plain": [
              "<matplotlib.axes._subplots.AxesSubplot at 0x7f75b09951d0>"
            ]
          },
          "metadata": {
            "tags": []
          },
          "execution_count": 145
        },
        {
          "output_type": "display_data",
          "data": {
            "image/png": "[encoded data removed]",
            "text/plain": [
              "<Figure size 432x288 with 2 Axes>"
            ]
          },
          "metadata": {
            "tags": [],
            "needs_background": "light"
          }
        }
      ]
    },
    {
      "cell_type": "code",
      "metadata": {
        "id": "EO6waBT8ugfP",
        "colab": {
          "base_uri": "https://localhost:8080/",
          "height": 142
        },
        "outputId": "4716888b-d3a6-4a14-d5d2-80972c9445a3"
      },
      "source": [
        "#Pivot tables\n",
        "pd.pivot_table(training,training_numerical,index='Survived')"
      ],
      "execution_count": null,
      "outputs": [
        {
          "output_type": "execute_result",
          "data": {
            "text/html": [
              "<div>\n",
              "<style scoped>\n",
              "    .dataframe tbody tr th:only-of-type {\n",
              "        vertical-align: middle;\n",
              "    }\n",
              "\n",
              "    .dataframe tbody tr th {\n",
              "        vertical-align: top;\n",
              "    }\n",
              "\n",
              "    .dataframe thead th {\n",
              "        text-align: right;\n",
              "    }\n",
              "</style>\n",
              "<table border=\"1\" class=\"dataframe\">\n",
              "  <thead>\n",
              "    <tr style=\"text-align: right;\">\n",
              "      <th></th>\n",
              "      <th>Age</th>\n",
              "      <th>Fare</th>\n",
              "      <th>Parch</th>\n",
              "      <th>SibSp</th>\n",
              "    </tr>\n",
              "    <tr>\n",
              "      <th>Survived</th>\n",
              "      <th></th>\n",
              "      <th></th>\n",
              "      <th></th>\n",
              "      <th></th>\n",
              "    </tr>\n",
              "  </thead>\n",
              "  <tbody>\n",
              "    <tr>\n",
              "      <th>0</th>\n",
              "      <td>30.626179</td>\n",
              "      <td>22.117887</td>\n",
              "      <td>0.329690</td>\n",
              "      <td>0.553734</td>\n",
              "    </tr>\n",
              "    <tr>\n",
              "      <th>1</th>\n",
              "      <td>28.343690</td>\n",
              "      <td>48.395408</td>\n",
              "      <td>0.464912</td>\n",
              "      <td>0.473684</td>\n",
              "    </tr>\n",
              "  </tbody>\n",
              "</table>\n",
              "</div>"
            ],
            "text/plain": [
              "                Age       Fare     Parch     SibSp\n",
              "Survived                                          \n",
              "0         30.626179  22.117887  0.329690  0.553734\n",
              "1         28.343690  48.395408  0.464912  0.473684"
            ]
          },
          "metadata": {
            "tags": []
          },
          "execution_count": 146
        }
      ]
    },
    {
      "cell_type": "code",
      "metadata": {
        "id": "h9ZH4SpkxoKp"
      },
      "source": [
        "#Exploring categorical variables\n",
        "categorical=['Survived','Sex', 'Cabin', 'Embarked','Pclass']\n",
        "training_categorical=training[categorical]"
      ],
      "execution_count": null,
      "outputs": []
    },
    {
      "cell_type": "code",
      "metadata": {
        "id": "TnWCdE553VWB",
        "colab": {
          "base_uri": "https://localhost:8080/",
          "height": 1000
        },
        "outputId": "230cc047-7892-4675-f500-be83b6c48880"
      },
      "source": [
        "#Barplots\n",
        "for i in training_categorical.columns:\n",
        "  sns.barplot(training_categorical[i].value_counts().index,training_categorical[i].value_counts(),data=training_categorical)\n",
        "  plt.show()"
      ],
      "execution_count": null,
      "outputs": [
        {
          "output_type": "stream",
          "text": [
            "/usr/local/lib/python3.6/dist-packages/seaborn/_decorators.py:43: FutureWarning: Pass the following variables as keyword args: x, y. From version 0.12, the only valid positional argument will be `data`, and passing other arguments without an explicit keyword will result in an error or misinterpretation.\n",
            "  FutureWarning\n"
          ],
          "name": "stderr"
        },
        {
          "output_type": "display_data",
          "data": {
            "image/png": "[encoded data removed]",
            "text/plain": [
              "<Figure size 432x288 with 1 Axes>"
            ]
          },
          "metadata": {
            "tags": [],
            "needs_background": "light"
          }
        },
        {
          "output_type": "stream",
          "text": [
            "/usr/local/lib/python3.6/dist-packages/seaborn/_decorators.py:43: FutureWarning: Pass the following variables as keyword args: x, y. From version 0.12, the only valid positional argument will be `data`, and passing other arguments without an explicit keyword will result in an error or misinterpretation.\n",
            "  FutureWarning\n"
          ],
          "name": "stderr"
        },
        {
          "output_type": "display_data",
          "data": {
            "image/png": "[encoded data removed]",
            "text/plain": [
              "<Figure size 432x288 with 1 Axes>"
            ]
          },
          "metadata": {
            "tags": [],
            "needs_background": "light"
          }
        },
        {
          "output_type": "stream",
          "text": [
            "/usr/local/lib/python3.6/dist-packages/seaborn/_decorators.py:43: FutureWarning: Pass the following variables as keyword args: x, y. From version 0.12, the only valid positional argument will be `data`, and passing other arguments without an explicit keyword will result in an error or misinterpretation.\n",
            "  FutureWarning\n"
          ],
          "name": "stderr"
        },
        {
          "output_type": "display_data",
          "data": {
            "image/png": "[encoded data removed]",
            "text/plain": [
              "<Figure size 432x288 with 1 Axes>"
            ]
          },
          "metadata": {
            "tags": [],
            "needs_background": "light"
          }
        },
        {
          "output_type": "stream",
          "text": [
            "/usr/local/lib/python3.6/dist-packages/seaborn/_decorators.py:43: FutureWarning: Pass the following variables as keyword args: x, y. From version 0.12, the only valid positional argument will be `data`, and passing other arguments without an explicit keyword will result in an error or misinterpretation.\n",
            "  FutureWarning\n"
          ],
          "name": "stderr"
        },
        {
          "output_type": "display_data",
          "data": {
            "image/png": "[encoded data removed]",
            "text/plain": [
              "<Figure size 432x288 with 1 Axes>"
            ]
          },
          "metadata": {
            "tags": [],
            "needs_background": "light"
          }
        },
        {
          "output_type": "stream",
          "text": [
            "/usr/local/lib/python3.6/dist-packages/seaborn/_decorators.py:43: FutureWarning: Pass the following variables as keyword args: x, y. From version 0.12, the only valid positional argument will be `data`, and passing other arguments without an explicit keyword will result in an error or misinterpretation.\n",
            "  FutureWarning\n"
          ],
          "name": "stderr"
        },
        {
          "output_type": "display_data",
          "data": {
            "image/png": "[encoded data removed]",
            "text/plain": [
              "<Figure size 432x288 with 1 Axes>"
            ]
          },
          "metadata": {
            "tags": [],
            "needs_background": "light"
          }
        }
      ]
    },
    {
      "cell_type": "code",
      "metadata": {
        "id": "HkmiWJPJ5jOw",
        "colab": {
          "base_uri": "https://localhost:8080/",
          "height": 323
        },
        "outputId": "e45075f6-50c9-4f76-d2d0-b205e40641e8"
      },
      "source": [
        "#Exploring survival rate acros the other categorical values\n",
        "forpivot=['Sex','Embarked','Pclass']\n",
        "for i in forpivot:\n",
        "  print('\\n\\n',pd.pivot_table(training,values='PassengerId',index='Survived',columns=i,aggfunc='count'))\n"
      ],
      "execution_count": null,
      "outputs": [
        {
          "output_type": "stream",
          "text": [
            "\n",
            "\n",
            " Sex       female  male\n",
            "Survived              \n",
            "0             81   468\n",
            "1            233   109\n",
            "\n",
            "\n",
            " Embarked   C   Q    S\n",
            "Survived             \n",
            "0         75  47  427\n",
            "1         93  30  217\n",
            "\n",
            "\n",
            " Pclass      1   2    3\n",
            "Survived              \n",
            "0          80  97  372\n",
            "1         136  87  119\n"
          ],
          "name": "stdout"
        }
      ]
    },
    {
      "cell_type": "markdown",
      "metadata": {
        "id": "Fm5sss0pakND"
      },
      "source": [
        "# **Feature Engineering**"
      ]
    },
    {
      "cell_type": "code",
      "metadata": {
        "id": "06uqmFoqajIM"
      },
      "source": [
        "#Create a new feature relatives: sum of the SibSp+Parch\n",
        "training['Relatives']=training.SibSp+training.Parch"
      ],
      "execution_count": null,
      "outputs": []
    },
    {
      "cell_type": "code",
      "metadata": {
        "id": "mnBtBs--dGgn",
        "colab": {
          "base_uri": "https://localhost:8080/",
          "height": 187
        },
        "outputId": "e96327ca-4358-4353-e2b0-585c40020829"
      },
      "source": [
        "#Create a variable that indicates the Cabin Classification\n",
        "training['Cabin_type']=training['Cabin'].str[0]\n",
        "training.Cabin_type.fillna('No Cabin',inplace=True)\n",
        "print(training.Cabin_type.value_counts(sort=True))\n",
        "\n",
        "#Fixing problem with Cabin T\n",
        "training[training['Cabin_type']=='T']\n",
        "training.drop(339,inplace=True)"
      ],
      "execution_count": null,
      "outputs": [
        {
          "output_type": "stream",
          "text": [
            "No Cabin    687\n",
            "C            59\n",
            "B            47\n",
            "D            33\n",
            "E            32\n",
            "A            15\n",
            "F            13\n",
            "G             4\n",
            "T             1\n",
            "Name: Cabin_type, dtype: int64\n"
          ],
          "name": "stdout"
        }
      ]
    },
    {
      "cell_type": "code",
      "metadata": {
        "id": "-Jb1kanMlEaW",
        "colab": {
          "base_uri": "https://localhost:8080/",
          "height": 391
        },
        "outputId": "6614c5b4-9147-4cbd-ce73-015799e31c35"
      },
      "source": [
        "#Create a feature that counts the number of cabins per passenger\n",
        "training['CabinPerPassenger']=training.Cabin.apply(lambda x:0 if pd.isna(x) else len(x.split()))\n",
        "training.CabinPerPassenger.value_counts()\n",
        "training['CabinPerPassenger']=training['CabinPerPassenger'].astype('str')\n",
        "training.info()"
      ],
      "execution_count": null,
      "outputs": [
        {
          "output_type": "stream",
          "text": [
            "<class 'pandas.core.frame.DataFrame'>\n",
            "Int64Index: 890 entries, 0 to 890\n",
            "Data columns (total 15 columns):\n",
            " #   Column             Non-Null Count  Dtype  \n",
            "---  ------             --------------  -----  \n",
            " 0   PassengerId        890 non-null    int64  \n",
            " 1   Survived           890 non-null    int64  \n",
            " 2   Pclass             890 non-null    int64  \n",
            " 3   Name               890 non-null    object \n",
            " 4   Sex                890 non-null    object \n",
            " 5   Age                713 non-null    float64\n",
            " 6   SibSp              890 non-null    int64  \n",
            " 7   Parch              890 non-null    int64  \n",
            " 8   Ticket             890 non-null    object \n",
            " 9   Fare               890 non-null    float64\n",
            " 10  Cabin              203 non-null    object \n",
            " 11  Embarked           888 non-null    object \n",
            " 12  Relatives          890 non-null    int64  \n",
            " 13  Cabin_type         890 non-null    object \n",
            " 14  CabinPerPassenger  890 non-null    object \n",
            "dtypes: float64(2), int64(6), object(7)\n",
            "memory usage: 111.2+ KB\n"
          ],
          "name": "stdout"
        }
      ]
    },
    {
      "cell_type": "markdown",
      "metadata": {
        "id": "NsbRqcvJ9spT"
      },
      "source": [
        "# Data preparation for modeling"
      ]
    },
    {
      "cell_type": "code",
      "metadata": {
        "id": "CcEjaeFJ9zLg",
        "colab": {
          "base_uri": "https://localhost:8080/",
          "height": 265
        },
        "outputId": "52fe8d62-b3b6-4ab2-c0ba-a3eae675b32e"
      },
      "source": [
        "#Impute missing values with median for Age\n",
        "training.Age.fillna(training.Age.median(),inplace=True)\n",
        "\n",
        "#Delete missing values from Embarke (2 obs)\n",
        "training.dropna(subset=['Embarked'],inplace=True)\n",
        "\n",
        "#Normalize Fare\n",
        "training['Fare_norm']=np.log(training.Fare+1)\n",
        "plt.hist(training['Fare_norm'])\n",
        "plt.show()"
      ],
      "execution_count": null,
      "outputs": [
        {
          "output_type": "display_data",
          "data": {
            "image/png": "[encoded data removed]",
            "text/plain": [
              "<Figure size 432x288 with 1 Axes>"
            ]
          },
          "metadata": {
            "tags": [],
            "needs_background": "light"
          }
        }
      ]
    },
    {
      "cell_type": "code",
      "metadata": {
        "id": "KWx29ZlyxlSz"
      },
      "source": [
        "#Convert PClass to categorical\n",
        "training['Pclass']=training['Pclass'].astype('str')\n",
        "\n",
        "#Get dummy variables for categorical and create me X dataframe\n",
        "X=pd.get_dummies(training[['Pclass','Fare_norm','SibSp','Parch','Age','Sex','Embarked','Relatives','Cabin_type','CabinPerPassenger']],drop_first=True)\n",
        "X.dtypes\n",
        "\n",
        "#Create y dataframe\n",
        "y=training['Survived']"
      ],
      "execution_count": null,
      "outputs": []
    },
    {
      "cell_type": "markdown",
      "metadata": {
        "id": "rAwpoEZULupO"
      },
      "source": [
        "**Scaling Features**"
      ]
    },
    {
      "cell_type": "code",
      "metadata": {
        "id": "8Eax7VTNLfap",
        "colab": {
          "base_uri": "https://localhost:8080/",
          "height": 34
        },
        "outputId": "e25a95ee-67d5-4ac3-9219-26abd943f56f"
      },
      "source": [
        "#Standard Scaler\n",
        "scaler=StandardScaler()\n",
        "\n",
        "X_scaled=X.copy()\n",
        "X_scaled[['Fare_norm','SibSp','Parch','Age','Relatives']]=scaler.fit_transform(X_scaled[['Fare_norm','SibSp','Parch','Age','Relatives']])\n",
        "X_scaled.shape"
      ],
      "execution_count": null,
      "outputs": [
        {
          "output_type": "execute_result",
          "data": {
            "text/plain": [
              "(888, 21)"
            ]
          },
          "metadata": {
            "tags": []
          },
          "execution_count": 179
        }
      ]
    },
    {
      "cell_type": "markdown",
      "metadata": {
        "id": "PCSHsfk59xtG"
      },
      "source": [
        "**Split training set in X_train and y_train**"
      ]
    },
    {
      "cell_type": "code",
      "metadata": {
        "id": "FB7VS9dKL1ts"
      },
      "source": [
        "X_train, X_test, y_train, y_test = train_test_split(X_scaled, y, test_size = 0.2, random_state=42)"
      ],
      "execution_count": null,
      "outputs": []
    },
    {
      "cell_type": "markdown",
      "metadata": {
        "id": "bPiQ4UA4zMeF"
      },
      "source": [
        "Running some models"
      ]
    },
    {
      "cell_type": "code",
      "metadata": {
        "id": "Qd3VZfaOiPtd",
        "colab": {
          "base_uri": "https://localhost:8080/",
          "height": 51
        },
        "outputId": "595c907a-f938-4f48-ddf3-296fd792c002"
      },
      "source": [
        "#Logistic Regression\n",
        "logreg=LogisticRegression(max_iter=2500)\n",
        "cv_logreg=cross_val_score(logreg,X_train,y_train,cv=5)\n",
        "print(cv_logreg)\n",
        "print(cv_logreg.mean())"
      ],
      "execution_count": null,
      "outputs": [
        {
          "output_type": "stream",
          "text": [
            "[0.74647887 0.81690141 0.80985915 0.78873239 0.83098592]\n",
            "0.7985915492957746\n"
          ],
          "name": "stdout"
        }
      ]
    },
    {
      "cell_type": "code",
      "metadata": {
        "id": "vIkB_b5AifWI",
        "colab": {
          "base_uri": "https://localhost:8080/",
          "height": 51
        },
        "outputId": "b58b267d-3d6a-4f31-d7a6-3a9d0a8d6a48"
      },
      "source": [
        "#Support Vector Machine (SVM)\n",
        "svm=SVC()\n",
        "cv_svm=cross_val_score(svm,X_train,y_train,cv=5)\n",
        "print(cv_svm)\n",
        "print(cv_svm.mean())"
      ],
      "execution_count": null,
      "outputs": [
        {
          "output_type": "stream",
          "text": [
            "[0.77464789 0.86619718 0.81690141 0.8028169  0.84507042]\n",
            "0.8211267605633802\n"
          ],
          "name": "stdout"
        }
      ]
    },
    {
      "cell_type": "code",
      "metadata": {
        "id": "v126PizUl46O",
        "colab": {
          "base_uri": "https://localhost:8080/",
          "height": 51
        },
        "outputId": "698eb32a-3670-4ebb-f87a-c3d8e2d9ca1e"
      },
      "source": [
        "#KNN\n",
        "knn=KNeighborsClassifier()\n",
        "cv_knn=cross_val_score(knn,X_train,y_train,cv=5)\n",
        "print(cv_knn)\n",
        "print(cv_knn.mean())"
      ],
      "execution_count": null,
      "outputs": [
        {
          "output_type": "stream",
          "text": [
            "[0.76056338 0.83098592 0.82394366 0.78873239 0.77464789]\n",
            "0.7957746478873239\n"
          ],
          "name": "stdout"
        }
      ]
    },
    {
      "cell_type": "code",
      "metadata": {
        "id": "Cl4V_T6omdQ2",
        "colab": {
          "base_uri": "https://localhost:8080/",
          "height": 51
        },
        "outputId": "bd9f45c1-4143-4616-b119-99e0a9b386d4"
      },
      "source": [
        "#Random Forests\n",
        "rf=RandomForestClassifier(random_state=1)\n",
        "cv_rf=cross_val_score(rf,X_train,y_train,cv=5)\n",
        "print(cv_rf)\n",
        "print(cv_rf.mean())"
      ],
      "execution_count": null,
      "outputs": [
        {
          "output_type": "stream",
          "text": [
            "[0.73239437 0.79577465 0.78873239 0.77464789 0.83802817]\n",
            "0.7859154929577464\n"
          ],
          "name": "stdout"
        }
      ]
    },
    {
      "cell_type": "code",
      "metadata": {
        "id": "9gYPdpA7oeH6",
        "colab": {
          "base_uri": "https://localhost:8080/",
          "height": 51
        },
        "outputId": "a7efa225-8a0a-4ddc-a920-094d876b03dd"
      },
      "source": [
        "#Gradient Boosting\n",
        "gb = GradientBoostingClassifier(n_estimators=200, \n",
        "            max_depth=2,\n",
        "            random_state=2)\n",
        "cv_gb=cross_val_score(gb,X_train,y_train,cv=5)\n",
        "print(cv_gb)\n",
        "print(cv_gb.mean())"
      ],
      "execution_count": null,
      "outputs": [
        {
          "output_type": "stream",
          "text": [
            "[0.78169014 0.86619718 0.80985915 0.84507042 0.84507042]\n",
            "0.8295774647887324\n"
          ],
          "name": "stdout"
        }
      ]
    },
    {
      "cell_type": "markdown",
      "metadata": {
        "id": "lTx3X3APqrKv"
      },
      "source": [
        "# **Hyperparameter tuning**\n",
        "\n",
        "In this section we are going to improve the model performance for:\n",
        "\n",
        "* KNN\n",
        "* SVM\n",
        "* Logistic Regression\n",
        "* Gradient Boosting Classifier"
      ]
    },
    {
      "cell_type": "code",
      "metadata": {
        "id": "yVqjpGcr1tuO"
      },
      "source": [
        "#Function to extract best score and best parameters for each model\n",
        "def perfomance(model,model_name):\n",
        "  print(model_name)\n",
        "  print('Best score: '+str(model.best_score_))\n",
        "  print('Best parameters: '+str(model.best_params_))\n"
      ],
      "execution_count": null,
      "outputs": []
    },
    {
      "cell_type": "code",
      "metadata": {
        "id": "MCul9umIybCB",
        "colab": {
          "base_uri": "https://localhost:8080/",
          "height": 85
        },
        "outputId": "9ee393c7-2c87-40be-d884-68e87352bee9"
      },
      "source": [
        "#Tuning KNN\n",
        "neighbors=[x for x in range(5,31)]\n",
        "weights=['uniform','distance']\n",
        "p=[1,2]\n",
        "\n",
        "knn=KNeighborsClassifier()\n",
        "params:knn={'n_neighbors':neighbors,\n",
        "            'weights':weights,\n",
        "            'p':p}\n",
        "\n",
        "cv_knn=GridSearchCV(estimator=knn,param_grid=params,cv=5,n_jobs=-1)\n",
        "cv_knn.fit(X_train,y_train)\n",
        "perfomance(cv_knn,'KNN')\n",
        "best_knn=cv_knn.best_estimator_\n",
        "\n",
        "best_knn.fit(X_train,y_train)\n",
        "y_pred=best_knn.predict(X_test)\n",
        "accuracy=accuracy_score(y_test,y_pred)\n",
        "print('KNN accuracy in test set: {:.3f}'.format(accuracy))\n"
      ],
      "execution_count": null,
      "outputs": [
        {
          "output_type": "stream",
          "text": [
            "KNN\n",
            "Best score: 0.8140845070422534\n",
            "Best parameters: {'n_neighbors': 18, 'p': 1, 'weights': 'uniform'}\n",
            "KNN accuracy in test set: 0.792\n"
          ],
          "name": "stdout"
        }
      ]
    },
    {
      "cell_type": "code",
      "metadata": {
        "id": "OfiyZNqX1VIt",
        "colab": {
          "base_uri": "https://localhost:8080/",
          "height": 85
        },
        "outputId": "57f455be-2b38-4522-d841-a108d6d28960"
      },
      "source": [
        "#Tuning SVM\n",
        "svm=SVC(probability=True)\n",
        "params_svm={'C':[0.02,0.5,1,10,100,1000],\n",
        "            'gamma':[0.1,0.01,0.001]}\n",
        "\n",
        "cv_svm=GridSearchCV(svm,params_svm,cv=5,n_jobs=-1)\n",
        "cv_svm.fit(X_train,y_train)\n",
        "perfomance(cv_svm,'SVM')\n",
        "best_svm=cv_svm.best_estimator_\n",
        "\n",
        "best_svm.fit(X_train,y_train)\n",
        "y_pred=best_svm.predict(X_test)\n",
        "accuracy=accuracy_score(y_test,y_pred)\n",
        "print('SVM accuracy in test set: {:.3f}'.format(accuracy))"
      ],
      "execution_count": null,
      "outputs": [
        {
          "output_type": "stream",
          "text": [
            "SVM\n",
            "Best score: 0.8253521126760563\n",
            "Best parameters: {'C': 1000, 'gamma': 0.01}\n",
            "SVM accuracy in test set: 0.775\n"
          ],
          "name": "stdout"
        }
      ]
    },
    {
      "cell_type": "code",
      "metadata": {
        "id": "Ihjti8fHAD5o",
        "colab": {
          "base_uri": "https://localhost:8080/",
          "height": 85
        },
        "outputId": "9e9733db-a42f-4703-8d5a-ea76289216a6"
      },
      "source": [
        "#Tuning Logistic Regression\n",
        "logreg=LogisticRegression()\n",
        "params_logreg={'penalty':['l1','l2'],\n",
        "               'C':[x for x in np.linspace(0,1)],\n",
        "               'fit_intercept':[True,False]}\n",
        "cv_logreg=GridSearchCV(logreg,params_logreg,cv=5,n_jobs=-1)\n",
        "cv_logreg.fit(X_train,y_train)\n",
        "perfomance(cv_logreg,'Logistic Regression')\n",
        "best_logreg=cv_logreg.best_estimator_\n",
        "\n",
        "best_logreg.fit(X_train,y_train)\n",
        "y_pred=best_logreg.predict(X_test)\n",
        "accuracy=accuracy_score(y_test,y_pred)\n",
        "print('Logistic Regression accuracy in test set: {:.3f}'.format(accuracy))"
      ],
      "execution_count": null,
      "outputs": [
        {
          "output_type": "stream",
          "text": [
            "Logistic Regression\n",
            "Best score: 0.8140845070422535\n",
            "Best parameters: {'C': 0.14285714285714285, 'fit_intercept': False, 'penalty': 'l2'}\n",
            "Logistic Regression accuracy in test set: 0.798\n"
          ],
          "name": "stdout"
        }
      ]
    },
    {
      "cell_type": "code",
      "metadata": {
        "id": "ITm0t4X5JSc9",
        "colab": {
          "base_uri": "https://localhost:8080/",
          "height": 85
        },
        "outputId": "c63536fb-2b5f-4885-f687-0194b5a30399"
      },
      "source": [
        "#Gradient Boosting Classifier\n",
        "gb=GradientBoostingClassifier()\n",
        "params_gb={'learning_rate':[x for x in np.linspace(0,0.2,8)],\n",
        "           'n_estimators':[100,300],\n",
        "           'max_depth':[x for x in range(1,6)]}\n",
        "cv_gb=GridSearchCV(gb,params_gb,cv=5,n_jobs=-1)\n",
        "cv_gb.fit(X_train,y_train)\n",
        "perfomance(cv_gb,'Gradient Boosting')\n",
        "best_gb=cv_gb.best_estimator_\n",
        "\n",
        "best_gb.fit(X_train,y_train)\n",
        "y_pred=best_gb.predict(X_test)\n",
        "accuracy=accuracy_score(y_test,y_pred)\n",
        "print('Gradient Boosting accuracy in test set: {:.3f}'.format(accuracy))\n"
      ],
      "execution_count": null,
      "outputs": [
        {
          "output_type": "stream",
          "text": [
            "Gradient Boosting\n",
            "Best score: 0.8352112676056338\n",
            "Best parameters: {'learning_rate': 0.028571428571428574, 'max_depth': 3, 'n_estimators': 300}\n",
            "Gradient Boosting accuracy in test set: 0.809\n"
          ],
          "name": "stdout"
        }
      ]
    },
    {
      "cell_type": "code",
      "metadata": {
        "id": "6jtAO0QRd7sx",
        "colab": {
          "base_uri": "https://localhost:8080/",
          "height": 85
        },
        "outputId": "200d67df-0c39-48bf-af7f-556d1efb39ab"
      },
      "source": [
        "#Tuning Random Forest\n",
        "rf=RandomForestClassifier()\n",
        "params_rf={'n_estimators':[100,200,300,400],\n",
        "           'criterion':['gini','entropy'],\n",
        "           'random_state':[1]}\n",
        "cv_rf=GridSearchCV(rf,params_rf,cv=5,n_jobs=-1)\n",
        "cv_rf.fit(X_train,y_train)\n",
        "perfomance(cv_rf,'Random Forest')\n",
        "best_rf=cv_rf.best_estimator_\n",
        "\n",
        "best_rf.fit(X_train,y_train)\n",
        "y_pred=best_rf.predict(X_test)\n",
        "accuracy=accuracy_score(y_test,y_pred)\n",
        "print('Random Forest accuracy in test set: {:.3f}'.format(accuracy))"
      ],
      "execution_count": null,
      "outputs": [
        {
          "output_type": "stream",
          "text": [
            "Random Forest\n",
            "Best score: 0.7943661971830986\n",
            "Best parameters: {'criterion': 'entropy', 'n_estimators': 100, 'random_state': 1}\n",
            "Random Forest accuracy in test set: 0.798\n"
          ],
          "name": "stdout"
        }
      ]
    },
    {
      "cell_type": "code",
      "metadata": {
        "id": "hjLMKCV2l4bb",
        "colab": {
          "base_uri": "https://localhost:8080/",
          "height": 34
        },
        "outputId": "a237f5e2-9002-4026-9e5c-bbfb2994e803"
      },
      "source": [
        "#Ensemble learning using voting classifier\n",
        "from sklearn.ensemble import VotingClassifier\n",
        "\n",
        "classifiers=[('Logistic Regression',best_logreg),('Gradient Boosting',best_gb),('SVM',best_svm)]\n",
        "vc_hard=VotingClassifier(estimators=classifiers)\n",
        "\n",
        "vc_hard.fit(X_train,y_train)\n",
        "y_pred=vc_hard.predict(X_test)\n",
        "accuracy=accuracy_score(y_test,y_pred)\n",
        "print('Voting Classifier accuracy in test set: {:.3f}'.format(accuracy))\n"
      ],
      "execution_count": null,
      "outputs": [
        {
          "output_type": "stream",
          "text": [
            "Voting Classifier accuracy in test set: 0.809\n"
          ],
          "name": "stdout"
        }
      ]
    },
    {
      "cell_type": "markdown",
      "metadata": {
        "id": "XKOpFAYLpFhm"
      },
      "source": [
        "# Preparing the Test data to make final predictions and submision"
      ]
    },
    {
      "cell_type": "code",
      "metadata": {
        "id": "rPkUK5MepSt9",
        "colab": {
          "base_uri": "https://localhost:8080/",
          "height": 337
        },
        "outputId": "57643d9d-e176-467e-aad8-03b4eb1c36db"
      },
      "source": [
        "#Load test data\n",
        "test=pd.read_csv('/content/sample_data/test (3).csv')\n",
        "\n",
        "#Evaluating Missing Values\n",
        "sns.heatmap(test.isna())"
      ],
      "execution_count": null,
      "outputs": [
        {
          "output_type": "execute_result",
          "data": {
            "text/plain": [
              "<matplotlib.axes._subplots.AxesSubplot at 0x7f75b0d94710>"
            ]
          },
          "metadata": {
            "tags": []
          },
          "execution_count": 170
        },
        {
          "output_type": "display_data",
          "data": {
            "image/png": "[encoded data removed]",
            "text/plain": [
              "<Figure size 432x288 with 2 Axes>"
            ]
          },
          "metadata": {
            "tags": [],
            "needs_background": "light"
          }
        }
      ]
    },
    {
      "cell_type": "code",
      "metadata": {
        "id": "RW_IkK9PqUF7"
      },
      "source": [
        "#Impute NaN values in Age\n",
        "test.Age.fillna(test.Age.median(),inplace=True)\n",
        "\n",
        "#Drop NaN in fare\n",
        "test.Fare.fillna(test.Fare.mean(),inplace=True)"
      ],
      "execution_count": null,
      "outputs": []
    },
    {
      "cell_type": "code",
      "metadata": {
        "id": "7dhAK10mq5oJ",
        "colab": {
          "base_uri": "https://localhost:8080/",
          "height": 337
        },
        "outputId": "8f855842-d53a-4df1-c78b-878a7f790be5"
      },
      "source": [
        "#Check again Missing Values\n",
        "sns.heatmap(test.isna())"
      ],
      "execution_count": null,
      "outputs": [
        {
          "output_type": "execute_result",
          "data": {
            "text/plain": [
              "<matplotlib.axes._subplots.AxesSubplot at 0x7f75b0abddd8>"
            ]
          },
          "metadata": {
            "tags": []
          },
          "execution_count": 172
        },
        {
          "output_type": "display_data",
          "data": {
            "image/png": "[encoded data removed]",
            "text/plain": [
              "<Figure size 432x288 with 2 Axes>"
            ]
          },
          "metadata": {
            "tags": [],
            "needs_background": "light"
          }
        }
      ]
    },
    {
      "cell_type": "markdown",
      "metadata": {
        "id": "Nllp1Iw1r6na"
      },
      "source": [
        "**Data preprocesing for Test set**"
      ]
    },
    {
      "cell_type": "code",
      "metadata": {
        "id": "u_M5-F5usDjd"
      },
      "source": [
        "#Normalize Fare\n",
        "test['Fare_norm']=np.log(test.Fare+1)\n",
        "\n",
        "#Convert PClass to categorical\n",
        "test['Pclass']=test['Pclass'].astype('str')\n",
        "\n",
        "#Create a new feature relatives: sum of the SibSp+Parch\n",
        "test['Relatives']=test.SibSp+test.Parch\n",
        "\n",
        "\n",
        "#Create a variable that indicates the Cabin Classification\n",
        "test['Cabin_type']=test['Cabin'].str[0]\n",
        "test.Cabin_type.fillna('No Cabin',inplace=True)\n",
        "\n",
        "#Create a feature that counts the number of cabins per passenger\n",
        "test['CabinPerPassenger']=test.Cabin.apply(lambda x:0 if pd.isna(x) else len(x.split()))\n",
        "test['CabinPerPassenger']=test['CabinPerPassenger'].astype('str')\n",
        "\n",
        "#Get dummy variables for categorical and create me X dataframe\n",
        "test_final=pd.get_dummies(test[['Pclass','Fare_norm','SibSp','Parch','Age','Sex',\n",
        "                                'Embarked','Relatives','Cabin_type','CabinPerPassenger']],drop_first=True)\n",
        "\n",
        "test_final_scaled=test_final.copy()\n",
        "test_final_scaled[['Fare_norm','SibSp','Parch','Age','Relatives']]=scaler.fit_transform(test_final_scaled[['Fare_norm','SibSp','Parch','Age','Relatives']])"
      ],
      "execution_count": null,
      "outputs": []
    },
    {
      "cell_type": "code",
      "metadata": {
        "id": "hB1T4X3lduxS"
      },
      "source": [
        "#Fixing problem with cabin T\n",
        "print(test_final_scaled.columns)\n",
        "print(X_scaled.columns)\n",
        "print(test.Cabin.unique())\n",
        "print(training.Cabin.value_counts())\n",
        "\n",
        "print(X_scaled.shape)\n",
        "print(test_final_scaled.shape)"
      ],
      "execution_count": null,
      "outputs": []
    },
    {
      "cell_type": "markdown",
      "metadata": {
        "id": "XxTPxSces9_b"
      },
      "source": [
        "**Making Predictions**"
      ]
    },
    {
      "cell_type": "code",
      "metadata": {
        "id": "MykqoWggs9Yq",
        "colab": {
          "base_uri": "https://localhost:8080/"
        },
        "outputId": "e7497964-6c51-4047-94ab-bc070cbb326d"
      },
      "source": [
        "#Predictions\n",
        "y_pred=vc_hard.predict(test_final_scaled)\n",
        "\n",
        "#Add predictions to test\n",
        "test['Survived']=y_pred\n",
        "test.head()\n",
        "\n",
        "#Extract Passenger ID and predictions\n",
        "results=test[['PassengerId','Survived']]\n",
        "results.shape\n"
      ],
      "execution_count": null,
      "outputs": [
        {
          "output_type": "execute_result",
          "data": {
            "text/plain": [
              "(418, 2)"
            ]
          },
          "metadata": {
            "tags": []
          },
          "execution_count": 185
        }
      ]
    },
    {
      "cell_type": "code",
      "metadata": {
        "id": "EAgyvtcNwAeR"
      },
      "source": [
        "#Create Submision file\n",
        "results.to_csv('submision.csv',index=False)"
      ],
      "execution_count": null,
      "outputs": []
    }
  ]
}